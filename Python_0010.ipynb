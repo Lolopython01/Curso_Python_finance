{
  "nbformat": 4,
  "nbformat_minor": 0,
  "metadata": {
    "colab": {
      "provenance": [],
      "authorship_tag": "ABX9TyPJzvEc3n2iBmsxNbXIr5uf",
      "include_colab_link": true
    },
    "kernelspec": {
      "name": "python3",
      "display_name": "Python 3"
    },
    "language_info": {
      "name": "python"
    }
  },
  "cells": [
    {
      "cell_type": "markdown",
      "metadata": {
        "id": "view-in-github",
        "colab_type": "text"
      },
      "source": [
        "<a href=\"https://colab.research.google.com/github/Lolopython01/Curso_Python_finance/blob/main/Python_0010.ipynb\" target=\"_parent\"><img src=\"https://colab.research.google.com/assets/colab-badge.svg\" alt=\"Open In Colab\"/></a>"
      ]
    },
    {
      "cell_type": "markdown",
      "source": [
        "# Comenzando a programar con Python\n",
        "## Hola"
      ],
      "metadata": {
        "id": "_zZ8rpWxubXO"
      }
    },
    {
      "cell_type": "code",
      "execution_count": 2,
      "metadata": {
        "colab": {
          "base_uri": "https://localhost:8080/"
        },
        "id": "D0VVMSJJtvq4",
        "outputId": "a42b381d-37ae-40c4-e1bc-6b60ac4ba879"
      },
      "outputs": [
        {
          "output_type": "stream",
          "name": "stdout",
          "text": [
            "hola\n"
          ]
        }
      ],
      "source": [
        "print (\"hola\")"
      ]
    },
    {
      "cell_type": "markdown",
      "source": [
        "## Variables\n"
      ],
      "metadata": {
        "id": "LKjHR4QYuzQQ"
      }
    },
    {
      "cell_type": "code",
      "source": [
        "# Asignar valor a una variable\n",
        "x=5 # Int entero\n",
        "print (x)\n",
        "print (type (x))\n"
      ],
      "metadata": {
        "colab": {
          "base_uri": "https://localhost:8080/"
        },
        "id": "w_7Ql4Uku_Pu",
        "outputId": "25244cff-a9e0-4b3b-c508-ec04a1114c82"
      },
      "execution_count": 8,
      "outputs": [
        {
          "output_type": "stream",
          "name": "stdout",
          "text": [
            "5\n",
            "<class 'int'>\n"
          ]
        }
      ]
    },
    {
      "cell_type": "code",
      "source": [
        "nombre = \"ana\" # cadena alfanumerica \"string\"\n",
        "print (nombre)\n",
        "print(type (nombre))"
      ],
      "metadata": {
        "colab": {
          "base_uri": "https://localhost:8080/"
        },
        "id": "tNVdzb_cv11P",
        "outputId": "d780b98a-f3c8-4af1-e96c-2f0273136bb2"
      },
      "execution_count": 11,
      "outputs": [
        {
          "output_type": "stream",
          "name": "stdout",
          "text": [
            "ana\n",
            "<class 'str'>\n"
          ]
        }
      ]
    },
    {
      "cell_type": "code",
      "source": [
        "peso = 4.17 # numero con coma flotante \"float\"\n",
        "print (peso)\n",
        "print (type(peso))"
      ],
      "metadata": {
        "colab": {
          "base_uri": "https://localhost:8080/"
        },
        "id": "BTo9w4b5wcx1",
        "outputId": "1396bd8c-3915-423f-d0f5-078f638cdc9d"
      },
      "execution_count": 14,
      "outputs": [
        {
          "output_type": "stream",
          "name": "stdout",
          "text": [
            "4.17\n",
            "<class 'float'>\n"
          ]
        }
      ]
    },
    {
      "cell_type": "markdown",
      "source": [
        "## Operaciones algebraicas basicas"
      ],
      "metadata": {
        "id": "iY_-uPtNxk1q"
      }
    },
    {
      "cell_type": "code",
      "source": [
        "x = 2\n",
        "y = 3\n",
        "print (x+y)\n",
        "print (x*y)\n",
        "print ((x+4)/y)\n"
      ],
      "metadata": {
        "colab": {
          "base_uri": "https://localhost:8080/"
        },
        "id": "KrZ4PFJ_xpOa",
        "outputId": "3501e5f7-9593-427f-96f7-7a198540c69b"
      },
      "execution_count": 19,
      "outputs": [
        {
          "output_type": "stream",
          "name": "stdout",
          "text": [
            "5\n",
            "6\n",
            "2.0\n"
          ]
        }
      ]
    },
    {
      "cell_type": "code",
      "source": [
        "a, b = 2, 3\n",
        "print (a**b) # elevar pontecias. 2**3 = 8"
      ],
      "metadata": {
        "colab": {
          "base_uri": "https://localhost:8080/"
        },
        "id": "hoEJxfqjzNnU",
        "outputId": "c9d3cba8-a2d8-49f8-8c5a-3ab70c9fbfca"
      },
      "execution_count": 21,
      "outputs": [
        {
          "output_type": "stream",
          "name": "stdout",
          "text": [
            "8\n"
          ]
        }
      ]
    },
    {
      "cell_type": "code",
      "source": [
        "p = 20\n",
        "q= 5\n",
        "print (p/q)\n",
        "print ( \"modulo:\", p%q) # modulo resto o residuo"
      ],
      "metadata": {
        "colab": {
          "base_uri": "https://localhost:8080/"
        },
        "id": "RAebd3_7zoAt",
        "outputId": "2a803317-0f67-4f55-811a-984dcf9f6f2b"
      },
      "execution_count": 30,
      "outputs": [
        {
          "output_type": "stream",
          "name": "stdout",
          "text": [
            "4.0\n",
            "modulo: 0\n"
          ]
        }
      ]
    }
  ]
}