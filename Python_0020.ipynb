{
  "nbformat": 4,
  "nbformat_minor": 0,
  "metadata": {
    "colab": {
      "provenance": [],
      "authorship_tag": "ABX9TyPY4LMFiU5eUW+aK3ADXNU0",
      "include_colab_link": true
    },
    "kernelspec": {
      "name": "python3",
      "display_name": "Python 3"
    },
    "language_info": {
      "name": "python"
    }
  },
  "cells": [
    {
      "cell_type": "markdown",
      "metadata": {
        "id": "view-in-github",
        "colab_type": "text"
      },
      "source": [
        "<a href=\"https://colab.research.google.com/github/Lolopython01/Curso_Python_finance/blob/main/Python_0020.ipynb\" target=\"_parent\"><img src=\"https://colab.research.google.com/assets/colab-badge.svg\" alt=\"Open In Colab\"/></a>"
      ]
    },
    {
      "cell_type": "code",
      "execution_count": null,
      "metadata": {
        "id": "3lEg77GbTqaf"
      },
      "outputs": [],
      "source": []
    },
    {
      "cell_type": "markdown",
      "source": [
        "# Listas\n",
        "## Arrays (arreglos)\n",
        "\n",
        "Son un conjunto iterable de datos ordenados que van entre corchetes []"
      ],
      "metadata": {
        "id": "P5J5fKoETtbT"
      }
    },
    {
      "cell_type": "code",
      "source": [
        "[] # Lista vacia"
      ],
      "metadata": {
        "colab": {
          "base_uri": "https://localhost:8080/"
        },
        "id": "CYkotk1RUmO_",
        "outputId": "71f5ae6a-d703-4def-b9e2-345456f2b050"
      },
      "execution_count": null,
      "outputs": [
        {
          "output_type": "execute_result",
          "data": {
            "text/plain": [
              "[]"
            ]
          },
          "metadata": {},
          "execution_count": 1
        }
      ]
    },
    {
      "cell_type": "code",
      "source": [
        "{0,15,12} # Lista de números enteros (int)"
      ],
      "metadata": {
        "colab": {
          "base_uri": "https://localhost:8080/"
        },
        "id": "18da5RidUuqz",
        "outputId": "82130c52-57aa-4cec-8225-de4e82a6ed3c"
      },
      "execution_count": null,
      "outputs": [
        {
          "output_type": "execute_result",
          "data": {
            "text/plain": [
              "{0, 12, 15}"
            ]
          },
          "metadata": {},
          "execution_count": 2
        }
      ]
    },
    {
      "cell_type": "code",
      "source": [
        "Estaciones = [\"Primavera\", \"Verano\",\"Otoño\",\"Invierno\"]\n",
        "print (Estaciones)"
      ],
      "metadata": {
        "colab": {
          "base_uri": "https://localhost:8080/"
        },
        "id": "S6FMF1vhVFk_",
        "outputId": "4f9c56a1-80bb-426c-fdbf-cd07ccc813fc"
      },
      "execution_count": null,
      "outputs": [
        {
          "output_type": "stream",
          "name": "stdout",
          "text": [
            "['Primavera', 'Verano', 'Otoño', 'Invierno']\n"
          ]
        }
      ]
    },
    {
      "cell_type": "markdown",
      "source": [
        "## El index comienza por Cero"
      ],
      "metadata": {
        "id": "ymLcJjwkWqKu"
      }
    },
    {
      "cell_type": "code",
      "source": [
        "print (Estaciones [0])\n",
        "print (Estaciones [1])\n",
        "print (Estaciones [2])\n",
        "print (Estaciones [3])\n",
        "print (Estaciones [-1])\n",
        "print (Estaciones [-4])"
      ],
      "metadata": {
        "colab": {
          "base_uri": "https://localhost:8080/"
        },
        "id": "tVtpMRX_Wz6B",
        "outputId": "1d5b6860-887a-4d0b-d3bb-618aff15ad15"
      },
      "execution_count": null,
      "outputs": [
        {
          "output_type": "stream",
          "name": "stdout",
          "text": [
            "Primavera\n",
            "Verano\n",
            "Otoño\n",
            "Invierno\n",
            "Invierno\n",
            "Primavera\n"
          ]
        }
      ]
    },
    {
      "cell_type": "markdown",
      "source": [
        "## Longitud de una lista\n"
      ],
      "metadata": {
        "id": "e8CgepCpXdgI"
      }
    },
    {
      "cell_type": "code",
      "source": [
        "colores = ['rojo','amarillo','verde','azul','naranja','rosa']\n",
        "len (colores)"
      ],
      "metadata": {
        "colab": {
          "base_uri": "https://localhost:8080/"
        },
        "id": "kOuhyexIXgBy",
        "outputId": "fb76a384-bf8e-4094-c0ef-6f62d02c3bfd"
      },
      "execution_count": null,
      "outputs": [
        {
          "output_type": "execute_result",
          "data": {
            "text/plain": [
              "6"
            ]
          },
          "metadata": {},
          "execution_count": 14
        }
      ]
    },
    {
      "cell_type": "markdown",
      "source": [
        "## Tipo de dato"
      ],
      "metadata": {
        "id": "8uV1iYN3YB1N"
      }
    },
    {
      "cell_type": "code",
      "source": [
        "print (type (colores))"
      ],
      "metadata": {
        "colab": {
          "base_uri": "https://localhost:8080/"
        },
        "id": "g1ni8HOBYFRc",
        "outputId": "0d0cb102-48d3-48cb-ac47-9cc84c83a42e"
      },
      "execution_count": null,
      "outputs": [
        {
          "output_type": "stream",
          "name": "stdout",
          "text": [
            "<class 'list'>\n"
          ]
        }
      ]
    },
    {
      "cell_type": "markdown",
      "source": [
        "## Las cadenas admiten slicing"
      ],
      "metadata": {
        "id": "pnnIwZT6YZKe"
      }
    },
    {
      "cell_type": "code",
      "source": [
        "colores [2:5]"
      ],
      "metadata": {
        "colab": {
          "base_uri": "https://localhost:8080/"
        },
        "id": "vMt7J3aYYeoa",
        "outputId": "9054c618-8628-40c5-d8d1-1aed85bc97ec"
      },
      "execution_count": null,
      "outputs": [
        {
          "output_type": "execute_result",
          "data": {
            "text/plain": [
              "['verde', 'azul', 'naranja']"
            ]
          },
          "metadata": {},
          "execution_count": 19
        }
      ]
    },
    {
      "cell_type": "code",
      "source": [
        "colores [:3]"
      ],
      "metadata": {
        "colab": {
          "base_uri": "https://localhost:8080/"
        },
        "id": "VPul5n__YzFd",
        "outputId": "c4efd2bd-314b-4712-fa87-dd35b8e71e77"
      },
      "execution_count": null,
      "outputs": [
        {
          "output_type": "execute_result",
          "data": {
            "text/plain": [
              "['rojo', 'amarillo', 'verde']"
            ]
          },
          "metadata": {},
          "execution_count": 20
        }
      ]
    },
    {
      "cell_type": "code",
      "source": [
        "colores [3:]"
      ],
      "metadata": {
        "colab": {
          "base_uri": "https://localhost:8080/"
        },
        "id": "lqYSzC8IY9hR",
        "outputId": "3751af50-88fd-4b32-84e7-3f966cc4773a"
      },
      "execution_count": null,
      "outputs": [
        {
          "output_type": "execute_result",
          "data": {
            "text/plain": [
              "['azul', 'naranja', 'rosa']"
            ]
          },
          "metadata": {},
          "execution_count": 22
        }
      ]
    },
    {
      "cell_type": "code",
      "source": [
        "colores [:]"
      ],
      "metadata": {
        "colab": {
          "base_uri": "https://localhost:8080/"
        },
        "id": "_aQnmZ74ZPhH",
        "outputId": "ea00b206-2f16-4e4d-de63-77b6c70c14a6"
      },
      "execution_count": null,
      "outputs": [
        {
          "output_type": "execute_result",
          "data": {
            "text/plain": [
              "['rojo', 'amarillo', 'verde', 'azul', 'naranja', 'rosa']"
            ]
          },
          "metadata": {},
          "execution_count": 24
        }
      ]
    },
    {
      "cell_type": "markdown",
      "source": [
        "## Matriz Array 2D\n",
        "Cómo crear una matriz\n",
        "\n",
        "Matriz de dos dimensiones\n",
        "\n",
        "Matriz de 3 filas y 4 columnas 3x4\n"
      ],
      "metadata": {
        "id": "rTRekG9hZXch"
      }
    },
    {
      "cell_type": "code",
      "source": [
        "m = [[11, 12, 13, 14],\n",
        " [21, 22, 23, 24],\n",
        " [31, 32, 33, 34]]\n",
        "m"
      ],
      "metadata": {
        "colab": {
          "base_uri": "https://localhost:8080/"
        },
        "id": "4F1HD__aZ0Eo",
        "outputId": "b266515f-7d4c-455a-8fa8-819b78631128"
      },
      "execution_count": null,
      "outputs": [
        {
          "output_type": "execute_result",
          "data": {
            "text/plain": [
              "[[11, 12, 13, 14], [21, 22, 23, 24], [31, 32, 33, 34]]"
            ]
          },
          "metadata": {},
          "execution_count": 28
        }
      ]
    },
    {
      "cell_type": "code",
      "source": [
        "print (*m)"
      ],
      "metadata": {
        "colab": {
          "base_uri": "https://localhost:8080/"
        },
        "id": "Z3QJSb4DcCsR",
        "outputId": "48a202c2-e155-41a9-b40a-80abf21d9829"
      },
      "execution_count": null,
      "outputs": [
        {
          "output_type": "stream",
          "name": "stdout",
          "text": [
            "[11, 12, 13, 14] [21, 22, 23, 24] [31, 32, 33, 34]\n"
          ]
        }
      ]
    },
    {
      "cell_type": "code",
      "source": [
        "print(*m[0])\n",
        "print(*m[1])\n",
        "print(*m[2])\n"
      ],
      "metadata": {
        "colab": {
          "base_uri": "https://localhost:8080/"
        },
        "id": "8x7AIvAIcOO6",
        "outputId": "bac9f613-10c9-489f-81b8-5ba1a5853c14"
      },
      "execution_count": null,
      "outputs": [
        {
          "output_type": "stream",
          "name": "stdout",
          "text": [
            "11 12 13 14\n",
            "21 22 23 24\n",
            "31 32 33 34\n"
          ]
        }
      ]
    },
    {
      "cell_type": "markdown",
      "source": [
        "## Unir dos listas"
      ],
      "metadata": {
        "id": "R0vKcfMcc4qy"
      }
    },
    {
      "cell_type": "code",
      "source": [
        "uno = [11,12,13]\n",
        "dos = [21,22,23]\n",
        "todo = uno + dos\n",
        "todo\n",
        "print (*todo)"
      ],
      "metadata": {
        "colab": {
          "base_uri": "https://localhost:8080/"
        },
        "id": "3Z9QrL-vdKC6",
        "outputId": "27939795-e4c4-4de6-eadd-cf9a1bb62757"
      },
      "execution_count": null,
      "outputs": [
        {
          "output_type": "stream",
          "name": "stdout",
          "text": [
            "11 12 13 21 22 23\n"
          ]
        }
      ]
    },
    {
      "cell_type": "markdown",
      "source": [
        "## Borrar un elemento de la lista"
      ],
      "metadata": {
        "id": "q6PFZVHwdrrD"
      }
    },
    {
      "cell_type": "code",
      "source": [
        "del todo[-1]\n",
        "todo"
      ],
      "metadata": {
        "colab": {
          "base_uri": "https://localhost:8080/"
        },
        "id": "ENMwj2weeQf4",
        "outputId": "f78f1a29-f947-418b-8404-88579ee9c23f"
      },
      "execution_count": null,
      "outputs": [
        {
          "output_type": "execute_result",
          "data": {
            "text/plain": [
              "[11, 12, 13, 21, 22]"
            ]
          },
          "metadata": {},
          "execution_count": 42
        }
      ]
    },
    {
      "cell_type": "markdown",
      "source": [
        "## Anexar un elemento a una lista\n",
        "Añadir un elemento en la última posición"
      ],
      "metadata": {
        "id": "Ed5s8lQAeefD"
      }
    },
    {
      "cell_type": "code",
      "source": [
        "todo.append (100)\n",
        "todo"
      ],
      "metadata": {
        "colab": {
          "base_uri": "https://localhost:8080/"
        },
        "id": "89zwkpXNeqFC",
        "outputId": "a3e05b82-6b25-4a43-e640-ff1c16794bb1"
      },
      "execution_count": null,
      "outputs": [
        {
          "output_type": "execute_result",
          "data": {
            "text/plain": [
              "[11, 12, 13, 21, 22, 100]"
            ]
          },
          "metadata": {},
          "execution_count": 44
        }
      ]
    },
    {
      "cell_type": "markdown",
      "source": [
        "## Comprobar si un elemento está en la lista"
      ],
      "metadata": {
        "id": "TpG_jDrBfA1S"
      }
    },
    {
      "cell_type": "code",
      "source": [
        "print (100 in todo)\n",
        "print (101 in todo)\n",
        "print (100 not in todo)"
      ],
      "metadata": {
        "colab": {
          "base_uri": "https://localhost:8080/"
        },
        "id": "WVCrw-mGfFjQ",
        "outputId": "4dab999c-d204-4923-84c0-809f1ec14ab2"
      },
      "execution_count": null,
      "outputs": [
        {
          "output_type": "stream",
          "name": "stdout",
          "text": [
            "True\n",
            "False\n",
            "False\n"
          ]
        }
      ]
    },
    {
      "cell_type": "markdown",
      "source": [
        "## Indice de un elemento en la lista"
      ],
      "metadata": {
        "id": "eLYVNr4bfngv"
      }
    },
    {
      "cell_type": "code",
      "source": [
        "todo.index (100)\n"
      ],
      "metadata": {
        "colab": {
          "base_uri": "https://localhost:8080/"
        },
        "id": "hnldUqCLft5V",
        "outputId": "f58b6089-a3ea-449a-ac55-815f814534ca"
      },
      "execution_count": null,
      "outputs": [
        {
          "output_type": "execute_result",
          "data": {
            "text/plain": [
              "5"
            ]
          },
          "metadata": {},
          "execution_count": 53
        }
      ]
    },
    {
      "cell_type": "markdown",
      "source": [
        "## Remover un elemento de una lista"
      ],
      "metadata": {
        "id": "HzQ47rMigX_r"
      }
    },
    {
      "cell_type": "code",
      "source": [
        "print (todo)\n",
        "todo.remove (13)\n",
        "print (todo)\n",
        "todo.index (100)"
      ],
      "metadata": {
        "colab": {
          "base_uri": "https://localhost:8080/"
        },
        "id": "4h_WuVQqgdBK",
        "outputId": "59ede9f3-de7e-4525-e678-4315d82af0e3"
      },
      "execution_count": null,
      "outputs": [
        {
          "output_type": "stream",
          "name": "stdout",
          "text": [
            "[12, 13, 21, 22, 100]\n",
            "[12, 21, 22, 100]\n"
          ]
        },
        {
          "output_type": "execute_result",
          "data": {
            "text/plain": [
              "3"
            ]
          },
          "metadata": {},
          "execution_count": 57
        }
      ]
    },
    {
      "cell_type": "markdown",
      "source": [
        "## Eliminar el último elemento con ```pop```"
      ],
      "metadata": {
        "id": "BNTw4zxzhGbm"
      }
    },
    {
      "cell_type": "code",
      "source": [
        "todo.pop()\n",
        "todo"
      ],
      "metadata": {
        "colab": {
          "base_uri": "https://localhost:8080/"
        },
        "id": "JUb86XQmhPlU",
        "outputId": "6facb3cb-cf20-41a8-faa0-726dbf29d13c"
      },
      "execution_count": null,
      "outputs": [
        {
          "output_type": "execute_result",
          "data": {
            "text/plain": [
              "[12, 21, 22]"
            ]
          },
          "metadata": {},
          "execution_count": 59
        }
      ]
    },
    {
      "cell_type": "code",
      "source": [],
      "metadata": {
        "id": "mbD58waffSmh"
      },
      "execution_count": null,
      "outputs": []
    },
    {
      "cell_type": "markdown",
      "source": [
        "## Insertar elemento en una posición"
      ],
      "metadata": {
        "id": "9aRq_p_3hr4z"
      }
    },
    {
      "cell_type": "code",
      "source": [
        "todo.insert (0, 99)\n",
        "todo.insert (1, 11)\n",
        "todo.pop (2)\n",
        "todo"
      ],
      "metadata": {
        "colab": {
          "base_uri": "https://localhost:8080/"
        },
        "id": "653RnAjJhv6P",
        "outputId": "cf7189f1-1488-44c6-b89a-ad2bfbd57ed6"
      },
      "execution_count": null,
      "outputs": [
        {
          "output_type": "execute_result",
          "data": {
            "text/plain": [
              "[99, 11, 11, 99, 12, 21, 22]"
            ]
          },
          "metadata": {},
          "execution_count": 64
        }
      ]
    },
    {
      "cell_type": "markdown",
      "source": [
        "## iniciar una lista con ceros"
      ],
      "metadata": {
        "id": "zlrAVPkDibLA"
      }
    },
    {
      "cell_type": "code",
      "source": [
        "ceros = [0] * 10\n",
        "ceros\n",
        "print (*ceros)\n"
      ],
      "metadata": {
        "colab": {
          "base_uri": "https://localhost:8080/"
        },
        "id": "OuLfMV5WieiQ",
        "outputId": "03964bb3-9309-4127-e7b5-4b0f400722fa"
      },
      "execution_count": null,
      "outputs": [
        {
          "output_type": "stream",
          "name": "stdout",
          "text": [
            "0 0 0 0 0 0 0 0 0 0\n"
          ]
        }
      ]
    },
    {
      "cell_type": "markdown",
      "source": [
        "## problemas al copiar listas"
      ],
      "metadata": {
        "id": "SoQeOa33jMP0"
      }
    },
    {
      "cell_type": "code",
      "source": [
        "helados_luis=['nata','chocolate','fresa']\n",
        "helados_sara=helados_luis\n",
        "print (*helados_luis)\n",
        "print (*helados_sara)"
      ],
      "metadata": {
        "colab": {
          "base_uri": "https://localhost:8080/"
        },
        "id": "VSVIOWJ4jQPf",
        "outputId": "8b3fcf3f-1659-456c-cdfd-0e707ca05924"
      },
      "execution_count": null,
      "outputs": [
        {
          "output_type": "stream",
          "name": "stdout",
          "text": [
            "nata chocolate fresa\n",
            "nata chocolate fresa\n"
          ]
        }
      ]
    },
    {
      "cell_type": "code",
      "source": [],
      "metadata": {
        "id": "1Z-nu6dfiZzL"
      },
      "execution_count": null,
      "outputs": []
    },
    {
      "cell_type": "markdown",
      "source": [
        "## al modificar una lista se modifica la otra ya que en realidad es la misma lista con dos nombres diferentes"
      ],
      "metadata": {
        "id": "G8j36qEZj40c"
      }
    },
    {
      "cell_type": "code",
      "source": [
        "helados_sara [0] = 'turron'\n",
        "print (helados_sara)\n",
        "print (helados_luis)"
      ],
      "metadata": {
        "colab": {
          "base_uri": "https://localhost:8080/"
        },
        "id": "Lzg-de3yj-3-",
        "outputId": "198c92c1-23ef-43d8-b5bd-ad11bd2a2320"
      },
      "execution_count": null,
      "outputs": [
        {
          "output_type": "stream",
          "name": "stdout",
          "text": [
            "['turron', 'chocolate', 'fresa']\n",
            "['turron', 'chocolate', 'fresa']\n"
          ]
        }
      ]
    },
    {
      "cell_type": "markdown",
      "source": [
        "## hacer una copia independiente de una lista"
      ],
      "metadata": {
        "id": "eAbBmWCvlp5_"
      }
    },
    {
      "cell_type": "code",
      "source": [
        "favoritos_luis = [1,6,9]\n",
        "favoritos_sara = favoritos_luis [:] # hace una copia elemento a elemento\n",
        "print (favoritos_sara)\n",
        "print (favoritos_luis)"
      ],
      "metadata": {
        "colab": {
          "base_uri": "https://localhost:8080/"
        },
        "id": "Hm41NtY3loBf",
        "outputId": "97e08a5f-06bd-4843-9f86-3335adcbcb4e"
      },
      "execution_count": null,
      "outputs": [
        {
          "output_type": "stream",
          "name": "stdout",
          "text": [
            "[1, 6, 9]\n",
            "[1, 6, 9]\n"
          ]
        }
      ]
    },
    {
      "cell_type": "code",
      "source": [
        "favoritos_sara [0] = 3\n",
        "print (favoritos_sara)\n",
        "print (favoritos_luis)"
      ],
      "metadata": {
        "colab": {
          "base_uri": "https://localhost:8080/"
        },
        "id": "A4yDyr5FmkyK",
        "outputId": "a5fd0c35-519c-41c7-c0b1-44398cea1cec"
      },
      "execution_count": null,
      "outputs": [
        {
          "output_type": "stream",
          "name": "stdout",
          "text": [
            "[3, 6, 9]\n",
            "[1, 6, 9]\n"
          ]
        }
      ]
    },
    {
      "cell_type": "code",
      "source": [
        "print (id(favoritos_luis))\n",
        "\n",
        "print (id(helados_luis))\n",
        "print (id(helados_sara))\n",
        "\n",
        "print (id(favoritos_sara))"
      ],
      "metadata": {
        "colab": {
          "base_uri": "https://localhost:8080/"
        },
        "id": "-FaxhfxhnU7q",
        "outputId": "be48623d-02cf-4f64-bbd1-98167678326b"
      },
      "execution_count": null,
      "outputs": [
        {
          "output_type": "stream",
          "name": "stdout",
          "text": [
            "136179979300544\n",
            "136179978911488\n",
            "136179978911488\n",
            "136179093560064\n"
          ]
        }
      ]
    },
    {
      "cell_type": "markdown",
      "source": [
        "## copiando una matriz con ```deepcopy```\n",
        "copiamos un nuevo objeto matriz usando deepcopy de la libreria copy"
      ],
      "metadata": {
        "id": "ZbAZlMx6oabU"
      }
    },
    {
      "cell_type": "code",
      "source": [],
      "metadata": {
        "id": "fGvFTGIZok-O"
      },
      "execution_count": null,
      "outputs": []
    },
    {
      "cell_type": "code",
      "source": [
        "from copy import deepcopy\n",
        "x=[[1,2],[3,4]]\n",
        "y = deepcopy (x)\n",
        "print (*x)\n",
        "print (*y)"
      ],
      "metadata": {
        "colab": {
          "base_uri": "https://localhost:8080/"
        },
        "id": "SwNSPsT3o5qV",
        "outputId": "66cbe1ad-3503-44dd-9f3c-477d4f18c892"
      },
      "execution_count": null,
      "outputs": [
        {
          "output_type": "stream",
          "name": "stdout",
          "text": [
            "[1, 2] [3, 4]\n",
            "[1, 2] [3, 4]\n"
          ]
        }
      ]
    },
    {
      "cell_type": "markdown",
      "source": [
        "## comprobación"
      ],
      "metadata": {
        "id": "QGwXuYCKpsW6"
      }
    },
    {
      "cell_type": "code",
      "source": [
        "x [0][0]=88\n",
        "y.append ([9,9])\n",
        "print (*x)\n",
        "print (*y)"
      ],
      "metadata": {
        "colab": {
          "base_uri": "https://localhost:8080/"
        },
        "id": "nCWfm8S2pvm0",
        "outputId": "4ffe9167-792a-48d8-ab51-0163f34dc4d6"
      },
      "execution_count": null,
      "outputs": [
        {
          "output_type": "stream",
          "name": "stdout",
          "text": [
            "[88, 2] [3, 4]\n",
            "[1, 2] [3, 4] [9, 9]\n"
          ]
        }
      ]
    },
    {
      "cell_type": "markdown",
      "source": [
        "## sort y sorted"
      ],
      "metadata": {
        "id": "8bn9XPFpqd0w"
      }
    },
    {
      "cell_type": "code",
      "source": [
        "a= [1,5,2,0,6,9]\n",
        "print (\"lista inicial\", a)\n",
        "a.sort ()     # ordena la lista pero se ha de escribir antes del print\n",
        "print ('lista ordenada', a)"
      ],
      "metadata": {
        "colab": {
          "base_uri": "https://localhost:8080/"
        },
        "id": "SdPbTiI8qlwW",
        "outputId": "212334d9-408a-4e89-daac-20c6929ddba2"
      },
      "execution_count": null,
      "outputs": [
        {
          "output_type": "stream",
          "name": "stdout",
          "text": [
            "lista inicial [1, 5, 2, 0, 6, 9]\n",
            "lista ordenada [0, 1, 2, 5, 6, 9]\n"
          ]
        }
      ]
    },
    {
      "cell_type": "code",
      "source": [
        "a= [1,5,2,0,6,9]\n",
        "print (\"lista inicial\", a)\n",
        "\n",
        "print ('lista ordenada', sorted (a)) # realmente no ordena la lista pero la imprime ordenada\n",
        "\n",
        "print (\"lista final\", a)"
      ],
      "metadata": {
        "colab": {
          "base_uri": "https://localhost:8080/"
        },
        "id": "3b0wn-iUrkPb",
        "outputId": "e9c147d3-1c65-4d33-c9db-1d4474181c68"
      },
      "execution_count": null,
      "outputs": [
        {
          "output_type": "stream",
          "name": "stdout",
          "text": [
            "lista inicial [1, 5, 2, 0, 6, 9]\n",
            "lista ordenada [0, 1, 2, 5, 6, 9]\n",
            "lista final [1, 5, 2, 0, 6, 9]\n"
          ]
        }
      ]
    }
  ]
}